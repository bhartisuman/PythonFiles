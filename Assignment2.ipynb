{
 "cells": [
  {
   "cell_type": "code",
   "execution_count": 2,
   "metadata": {},
   "outputs": [
    {
     "name": "stdout",
     "output_type": "stream",
     "text": [
      "Collecting jupyterlab-git\n",
      "  Using cached jupyterlab_git-0.51.2-py3-none-any.whl (367 kB)\n",
      "Collecting nbdime~=4.0.1\n",
      "  Using cached nbdime-4.0.2-py3-none-any.whl (5.9 MB)\n",
      "Requirement already satisfied: traitlets~=5.0 in c:\\users\\91902\\anaconda3\\lib\\site-packages (from jupyterlab-git) (5.0.5)\n",
      "Requirement already satisfied: nbformat in c:\\users\\91902\\anaconda3\\lib\\site-packages (from jupyterlab-git) (5.0.8)\n",
      "Requirement already satisfied: pexpect in c:\\users\\91902\\anaconda3\\lib\\site-packages (from jupyterlab-git) (4.8.0)\n",
      "Requirement already satisfied: packaging in c:\\users\\91902\\anaconda3\\lib\\site-packages (from jupyterlab-git) (20.4)\n",
      "Collecting jupyter-server<3,>=2.0.1\n",
      "  Using cached jupyter_server-2.14.2-py3-none-any.whl (383 kB)\n",
      "Requirement already satisfied: requests in c:\\users\\91902\\anaconda3\\lib\\site-packages (from nbdime~=4.0.1->jupyterlab-git) (2.24.0)\n",
      "Collecting gitpython!=2.1.4,!=2.1.5,!=2.1.6\n",
      "  Downloading gitpython-3.1.45-py3-none-any.whl (208 kB)\n",
      "Requirement already satisfied: jinja2>=2.9 in c:\\users\\91902\\anaconda3\\lib\\site-packages (from nbdime~=4.0.1->jupyterlab-git) (2.11.2)\n",
      "Collecting jupyter-server-mathjax>=0.2.2\n",
      "  Downloading jupyter_server_mathjax-0.2.6-py3-none-any.whl (3.1 MB)\n",
      "Requirement already satisfied: pygments in c:\\users\\91902\\anaconda3\\lib\\site-packages (from nbdime~=4.0.1->jupyterlab-git) (2.7.2)\n",
      "Requirement already satisfied: tornado in c:\\users\\91902\\anaconda3\\lib\\site-packages (from nbdime~=4.0.1->jupyterlab-git) (6.0.4)\n",
      "Requirement already satisfied: colorama in c:\\users\\91902\\anaconda3\\lib\\site-packages (from nbdime~=4.0.1->jupyterlab-git) (0.4.4)\n",
      "Requirement already satisfied: ipython-genutils in c:\\users\\91902\\anaconda3\\lib\\site-packages (from traitlets~=5.0->jupyterlab-git) (0.2.0)\n",
      "Requirement already satisfied: jsonschema!=2.5.0,>=2.4 in c:\\users\\91902\\anaconda3\\lib\\site-packages (from nbformat->jupyterlab-git) (3.2.0)\n",
      "Requirement already satisfied: jupyter-core in c:\\users\\91902\\anaconda3\\lib\\site-packages (from nbformat->jupyterlab-git) (4.6.3)\n",
      "Collecting ptyprocess>=0.5\n",
      "  Using cached ptyprocess-0.7.0-py2.py3-none-any.whl (13 kB)\n",
      "Requirement already satisfied: six in c:\\users\\91902\\anaconda3\\lib\\site-packages (from packaging->jupyterlab-git) (1.15.0)\n",
      "Requirement already satisfied: pyparsing>=2.0.2 in c:\\users\\91902\\anaconda3\\lib\\site-packages (from packaging->jupyterlab-git) (2.4.7)\n",
      "Collecting pywinpty>=2.0.1; os_name == \"nt\"\n",
      "  Using cached pywinpty-2.0.14.tar.gz (27 kB)\n",
      "  Installing build dependencies: started\n",
      "  Installing build dependencies: finished with status 'done'\n",
      "  Getting requirements to build wheel: started\n",
      "  Getting requirements to build wheel: finished with status 'done'\n",
      "  Installing backend dependencies: started\n",
      "  Installing backend dependencies: finished with status 'error'\n",
      "Note: you may need to restart the kernel to use updated packages.\n"
     ]
    },
    {
     "name": "stderr",
     "output_type": "stream",
     "text": [
      "  ERROR: Command errored out with exit status 1:\n",
      "   command: 'C:\\Users\\91902\\anaconda3\\python.exe' 'C:\\Users\\91902\\anaconda3\\lib\\site-packages\\pip' install --ignore-installed --no-user --prefix 'C:\\Users\\91902\\AppData\\Local\\Temp\\pip-build-env-o1p9f4k1\\normal' --no-warn-script-location --no-binary :none: --only-binary :none: -i https://pypi.org/simple -- puccinialin\n",
      "       cwd: None\n",
      "  Complete output (2 lines):\n",
      "  ERROR: Could not find a version that satisfies the requirement puccinialin (from versions: none)\n",
      "  ERROR: No matching distribution found for puccinialin\n",
      "  ----------------------------------------\n",
      "ERROR: Command errored out with exit status 1: 'C:\\Users\\91902\\anaconda3\\python.exe' 'C:\\Users\\91902\\anaconda3\\lib\\site-packages\\pip' install --ignore-installed --no-user --prefix 'C:\\Users\\91902\\AppData\\Local\\Temp\\pip-build-env-o1p9f4k1\\normal' --no-warn-script-location --no-binary :none: --only-binary :none: -i https://pypi.org/simple -- puccinialin Check the logs for full command output.\n"
     ]
    }
   ],
   "source": [
    "pip install jupyterlab-git"
   ]
  },
  {
   "cell_type": "code",
   "execution_count": 3,
   "metadata": {},
   "outputs": [
    {
     "ename": "SyntaxError",
     "evalue": "invalid syntax (<ipython-input-3-14f55121cff0>, line 1)",
     "output_type": "error",
     "traceback": [
      "\u001b[1;36m  File \u001b[1;32m\"<ipython-input-3-14f55121cff0>\"\u001b[1;36m, line \u001b[1;32m1\u001b[0m\n\u001b[1;33m    jupyter lab build\u001b[0m\n\u001b[1;37m            ^\u001b[0m\n\u001b[1;31mSyntaxError\u001b[0m\u001b[1;31m:\u001b[0m invalid syntax\n"
     ]
    }
   ],
   "source": [
    "jupyter lab build"
   ]
  },
  {
   "cell_type": "code",
   "execution_count": 4,
   "metadata": {},
   "outputs": [
    {
     "ename": "NameError",
     "evalue": "name 'git' is not defined",
     "output_type": "error",
     "traceback": [
      "\u001b[1;31m---------------------------------------------------------------------------\u001b[0m",
      "\u001b[1;31mNameError\u001b[0m                                 Traceback (most recent call last)",
      "\u001b[1;32m<ipython-input-4-7407f1d6c5f6>\u001b[0m in \u001b[0;36m<module>\u001b[1;34m\u001b[0m\n\u001b[1;32m----> 1\u001b[1;33m \u001b[0mgit\u001b[0m \u001b[1;33m-\u001b[0m\u001b[1;33m-\u001b[0m\u001b[0mversion\u001b[0m\u001b[1;33m\u001b[0m\u001b[1;33m\u001b[0m\u001b[0m\n\u001b[0m",
      "\u001b[1;31mNameError\u001b[0m: name 'git' is not defined"
     ]
    }
   ],
   "source": [
    "git --version"
   ]
  }
 ],
 "metadata": {
  "kernelspec": {
   "display_name": "Python 3",
   "language": "python",
   "name": "python3"
  },
  "language_info": {
   "codemirror_mode": {
    "name": "ipython",
    "version": 3
   },
   "file_extension": ".py",
   "mimetype": "text/x-python",
   "name": "python",
   "nbconvert_exporter": "python",
   "pygments_lexer": "ipython3",
   "version": "3.8.5"
  }
 },
 "nbformat": 4,
 "nbformat_minor": 4
}
