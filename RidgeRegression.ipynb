{
 "cells": [
  {
   "cell_type": "code",
   "execution_count": 2,
   "metadata": {},
   "outputs": [],
   "source": [
    "import numpy as np\n",
    "import pandas as pd\n",
    "import matplotlib.pyplot as plt\n",
    "from sklearn.model_selection import train_test_split\n",
    "from sklearn.metrics import accuracy_score,mean_squared_error\n",
    "np.float = float"
   ]
  },
  {
   "cell_type": "code",
   "execution_count": 3,
   "metadata": {},
   "outputs": [],
   "source": [
    "from sklearn.linear_model import LinearRegression, Ridge"
   ]
  },
  {
   "cell_type": "code",
   "execution_count": 4,
   "metadata": {},
   "outputs": [
    {
     "data": {
      "text/plain": [
       "array([[ 0.49671415, -0.1382643 ,  0.64768854],\n",
       "       [ 1.52302986, -0.23415337, -0.23413696],\n",
       "       [ 1.57921282,  0.76743473, -0.46947439],\n",
       "       [ 0.54256004, -0.46341769, -0.46572975],\n",
       "       [ 0.24196227, -1.91328024, -1.72491783],\n",
       "       [-0.56228753, -1.01283112,  0.31424733],\n",
       "       [-0.90802408, -1.4123037 ,  1.46564877],\n",
       "       [-0.2257763 ,  0.0675282 , -1.42474819],\n",
       "       [-0.54438272,  0.11092259, -1.15099358],\n",
       "       [ 0.37569802, -0.60063869, -0.29169375],\n",
       "       [-0.60170661,  1.85227818, -0.01349722],\n",
       "       [-1.05771093,  0.82254491, -1.22084365],\n",
       "       [ 0.2088636 , -1.95967012, -1.32818605],\n",
       "       [ 0.19686124,  0.73846658,  0.17136828],\n",
       "       [-0.11564828, -0.3011037 , -1.47852199],\n",
       "       [-0.71984421, -0.46063877,  1.05712223],\n",
       "       [ 0.34361829, -1.76304016,  0.32408397],\n",
       "       [-0.38508228, -0.676922  ,  0.61167629],\n",
       "       [ 1.03099952,  0.93128012, -0.83921752],\n",
       "       [-0.30921238,  0.33126343,  0.97554513],\n",
       "       [-0.47917424, -0.18565898, -1.10633497],\n",
       "       [-1.19620662,  0.81252582,  1.35624003],\n",
       "       [-0.07201012,  1.0035329 ,  0.36163603],\n",
       "       [-0.64511975,  0.36139561,  1.53803657],\n",
       "       [-0.03582604,  1.56464366, -2.6197451 ],\n",
       "       [ 0.8219025 ,  0.08704707, -0.29900735],\n",
       "       [ 0.09176078, -1.98756891, -0.21967189],\n",
       "       [ 0.35711257,  1.47789404, -0.51827022],\n",
       "       [-0.8084936 , -0.50175704,  0.91540212],\n",
       "       [ 0.32875111, -0.5297602 ,  0.51326743],\n",
       "       [ 0.09707755,  0.96864499, -0.70205309],\n",
       "       [-0.32766215, -0.39210815, -1.46351495],\n",
       "       [ 0.29612028,  0.26105527,  0.00511346],\n",
       "       [-0.23458713, -1.41537074, -0.42064532],\n",
       "       [-0.34271452, -0.80227727, -0.16128571],\n",
       "       [ 0.40405086,  1.8861859 ,  0.17457781],\n",
       "       [ 0.25755039, -0.07444592, -1.91877122],\n",
       "       [-0.02651388,  0.06023021,  2.46324211],\n",
       "       [-0.19236096,  0.30154734, -0.03471177],\n",
       "       [-1.16867804,  1.14282281,  0.75193303],\n",
       "       [ 0.79103195, -0.90938745,  1.40279431],\n",
       "       [-1.40185106,  0.58685709,  2.19045563],\n",
       "       [-0.99053633, -0.56629773,  0.09965137],\n",
       "       [-0.50347565, -1.55066343,  0.06856297],\n",
       "       [-1.06230371,  0.47359243, -0.91942423],\n",
       "       [ 1.54993441, -0.78325329, -0.32206152],\n",
       "       [ 0.81351722, -1.23086432,  0.22745993],\n",
       "       [ 1.30714275, -1.60748323,  0.18463386],\n",
       "       [ 0.25988279,  0.78182287, -1.23695071],\n",
       "       [-1.32045661,  0.52194157,  0.29698467],\n",
       "       [ 0.25049285,  0.34644821, -0.68002472],\n",
       "       [ 0.2322537 ,  0.29307247, -0.71435142],\n",
       "       [ 1.86577451,  0.47383292, -1.1913035 ],\n",
       "       [ 0.65655361, -0.97468167,  0.7870846 ],\n",
       "       [ 1.15859558, -0.82068232,  0.96337613],\n",
       "       [ 0.41278093,  0.82206016,  1.89679298],\n",
       "       [-0.24538812, -0.75373616, -0.88951443],\n",
       "       [-0.81581028, -0.07710171,  0.34115197],\n",
       "       [ 0.2766908 ,  0.82718325,  0.01300189],\n",
       "       [ 1.45353408, -0.26465683,  2.72016917],\n",
       "       [ 0.62566735, -0.85715756, -1.0708925 ],\n",
       "       [ 0.48247242, -0.22346279,  0.71400049],\n",
       "       [ 0.47323762, -0.07282891, -0.84679372],\n",
       "       [-1.51484722, -0.44651495,  0.85639879],\n",
       "       [ 0.21409374, -1.24573878,  0.17318093],\n",
       "       [ 0.38531738, -0.88385744,  0.15372511],\n",
       "       [ 0.05820872, -1.1429703 ,  0.35778736],\n",
       "       [ 0.56078453,  1.08305124,  1.05380205],\n",
       "       [-1.37766937, -0.93782504,  0.51503527],\n",
       "       [ 0.51378595,  0.51504769,  3.85273149],\n",
       "       [ 0.57089051,  1.13556564,  0.95400176],\n",
       "       [ 0.65139125, -0.31526924,  0.75896922],\n",
       "       [-0.77282521, -0.23681861, -0.48536355],\n",
       "       [ 0.08187414,  2.31465857, -1.86726519],\n",
       "       [ 0.68626019, -1.61271587, -0.47193187],\n",
       "       [ 1.0889506 ,  0.06428002, -1.07774478],\n",
       "       [-0.71530371,  0.67959775, -0.73036663],\n",
       "       [ 0.21645859,  0.04557184, -0.65160035],\n",
       "       [ 2.14394409,  0.63391902, -2.02514259],\n",
       "       [ 0.18645431, -0.66178646,  0.85243333],\n",
       "       [-0.79252074, -0.11473644,  0.50498728],\n",
       "       [ 0.86575519, -1.20029641, -0.33450124],\n",
       "       [-0.47494531, -0.65332923,  1.76545424],\n",
       "       [ 0.40498171, -1.26088395,  0.91786195],\n",
       "       [ 2.1221562 ,  1.03246526, -1.51936997],\n",
       "       [-0.48423407,  1.26691115, -0.70766947],\n",
       "       [ 0.44381943,  0.77463405, -0.92693047],\n",
       "       [-0.05952536, -3.24126734, -1.02438764],\n",
       "       [-0.25256815, -1.24778318,  1.6324113 ],\n",
       "       [-1.43014138, -0.44004449,  0.13074058],\n",
       "       [ 1.44127329, -1.43586215,  1.16316375],\n",
       "       [ 0.01023306, -0.98150865,  0.46210347],\n",
       "       [ 0.1990597 , -0.60021688,  0.06980208],\n",
       "       [-0.3853136 ,  0.11351735,  0.66213067],\n",
       "       [ 1.58601682, -1.2378155 ,  2.13303337],\n",
       "       [-1.9520878 , -0.1517851 ,  0.58831721],\n",
       "       [ 0.28099187, -0.62269952, -0.20812225],\n",
       "       [-0.49300093, -0.58936476,  0.8496021 ],\n",
       "       [ 0.35701549, -0.6929096 ,  0.89959988],\n",
       "       [ 0.30729952,  0.81286212,  0.62962884]])"
      ]
     },
     "execution_count": 4,
     "metadata": {},
     "output_type": "execute_result"
    }
   ],
   "source": [
    "np.random.seed(42)\n",
    "x = np.random.randn(100,3)\n",
    "x"
   ]
  },
  {
   "cell_type": "code",
   "execution_count": 5,
   "metadata": {},
   "outputs": [
    {
     "data": {
      "text/plain": [
       "array([ 2.61908371e+00,  3.32922338e+00,  6.42483813e+00,  6.74824734e-02,\n",
       "       -8.58086627e+00, -4.21392976e+00, -3.24007938e+00, -2.94052330e+00,\n",
       "       -3.83710475e+00, -9.86929493e-01,  3.49301142e+00, -3.38005023e+00,\n",
       "       -7.78781055e+00,  2.19207989e+00, -5.06975883e+00, -1.70834825e+00,\n",
       "       -4.11651322e+00, -1.80553660e+00,  3.75439184e+00,  1.31109157e+00,\n",
       "       -3.47434521e+00,  1.44854950e+00,  3.55160448e+00,  1.51252659e+00,\n",
       "       -9.25228720e-01,  2.18429531e+00, -6.70226498e+00,  4.65632842e+00,\n",
       "       -2.40026705e+00,  2.77660709e-01,  1.49220813e+00, -4.16020170e+00,\n",
       "        1.67500495e+00, -6.32001974e+00, -3.34627432e+00,  6.60944407e+00,\n",
       "       -3.18379721e+00,  4.04779817e+00, -4.05957431e-01,  1.52473101e+00,\n",
       "        2.81975539e+00,  2.02161349e+00, -4.52902358e+00, -6.17584315e+00,\n",
       "       -4.34424331e+00,  1.29599820e+00, -1.02744081e+00, -3.19261066e-03,\n",
       "        8.23024721e-01, -2.68309587e+00,  5.92815721e-01, -4.52654649e-02,\n",
       "        4.29775430e+00,  9.25623167e-01,  3.45599180e+00,  7.96374929e+00,\n",
       "       -5.19601046e+00, -2.15103822e+00,  3.50325764e+00,  9.49474263e+00,\n",
       "       -3.07584274e+00,  2.11220039e+00, -1.04552879e+00, -4.76939225e+00,\n",
       "       -2.34231034e+00, -5.10049943e-01, -2.57471508e+00,  7.54087786e+00,\n",
       "       -5.73559468e+00,  1.04694040e+01,  7.20806978e+00,  3.29532274e+00,\n",
       "       -4.01757158e+00,  4.23738956e+00, -5.03310333e+00,  1.71515354e+00,\n",
       "       -1.52432761e+00, -6.66613082e-01,  4.32918455e+00, -7.14914238e-01,\n",
       "       -1.82163293e+00, -1.49406982e+00,  8.85031872e-01, -9.91117945e-01,\n",
       "        6.02087764e+00,  6.81813776e-01,  2.25920056e+00, -1.17867778e+01,\n",
       "       -1.50111149e+00, -5.09244272e+00,  2.39109969e+00, -1.50529733e+00,\n",
       "       -1.41489392e+00,  3.45041521e-01,  5.11461662e+00, -5.86674174e+00,\n",
       "       -1.29330732e+00, -1.41736524e+00,  7.94074151e-01,  4.50244904e+00])"
      ]
     },
     "execution_count": 5,
     "metadata": {},
     "output_type": "execute_result"
    }
   ],
   "source": [
    "np.random.seed(42)\n",
    "y = 3*x[:,1]+2*x[:,2]+3*x[:,0]+np.random.randn(100)*0.5\n",
    "y"
   ]
  },
  {
   "cell_type": "code",
   "execution_count": 6,
   "metadata": {},
   "outputs": [],
   "source": [
    "x_train,x_test,y_train,y_test = train_test_split(x,y,test_size=0.3,random_state=42)"
   ]
  },
  {
   "cell_type": "code",
   "execution_count": 7,
   "metadata": {},
   "outputs": [],
   "source": [
    "lr = LinearRegression()\n",
    "lr.fit(x_train,y_train)\n",
    "y_lr = lr.predict(x_test)"
   ]
  },
  {
   "cell_type": "code",
   "execution_count": 8,
   "metadata": {},
   "outputs": [],
   "source": [
    "ridge= Ridge(alpha=5)\n",
    "ridge.fit(x_train,y_train)\n",
    "y_ridge = ridge.predict(x_test)"
   ]
  },
  {
   "cell_type": "code",
   "execution_count": 9,
   "metadata": {},
   "outputs": [
    {
     "data": {
      "text/plain": [
       "0.16196318649084185"
      ]
     },
     "execution_count": 9,
     "metadata": {},
     "output_type": "execute_result"
    }
   ],
   "source": [
    "mean_squared_error(y_test,y_lr)"
   ]
  },
  {
   "cell_type": "code",
   "execution_count": 10,
   "metadata": {},
   "outputs": [
    {
     "data": {
      "text/plain": [
       "0.4231994018698123"
      ]
     },
     "execution_count": 10,
     "metadata": {},
     "output_type": "execute_result"
    }
   ],
   "source": [
    "mean_squared_error(y_test,y_ridge)"
   ]
  },
  {
   "cell_type": "code",
   "execution_count": 11,
   "metadata": {},
   "outputs": [],
   "source": [
    "errors=[]\n",
    "for i in [0,0.001,0.01,0.5,1,2,3,4,5,10,100,1000]:\n",
    "    ridge=Ridge(alpha=i)\n",
    "    ridge.fit(x_train,y_train)\n",
    "    errors.append(mean_squared_error(y_test,ridge.predict(x_test)))"
   ]
  },
  {
   "cell_type": "code",
   "execution_count": null,
   "metadata": {},
   "outputs": [],
   "source": []
  },
  {
   "cell_type": "code",
   "execution_count": 12,
   "metadata": {},
   "outputs": [
    {
     "data": {
      "image/png": "[encoded data removed]",
      "text/plain": [
       "<Figure size 1080x648 with 1 Axes>"
      ]
     },
     "metadata": {
      "needs_background": "light"
     },
     "output_type": "display_data"
    }
   ],
   "source": [
    "plt.figure(figsize=(15,9))\n",
    "plt.plot(np.array([0,0.001,0.01,0.5,1,2,3,4,5,10,100,1000]),errors,label='Testing',marker='o',linestyle='--')\n",
    "plt.axhline(mean_squared_error(y_test,y_lr),linestyle=':', color = 'red',label='LinearRegression')\n",
    "plt.xscale('log')"
   ]
  },
  {
   "cell_type": "code",
   "execution_count": 13,
   "metadata": {},
   "outputs": [
    {
     "data": {
      "text/plain": [
       "array([3.09003216, 2.92290777, 2.01004373])"
      ]
     },
     "execution_count": 13,
     "metadata": {},
     "output_type": "execute_result"
    }
   ],
   "source": [
    "lr.coef_"
   ]
  },
  {
   "cell_type": "code",
   "execution_count": 14,
   "metadata": {},
   "outputs": [
    {
     "data": {
      "text/plain": [
       "array([0.131371  , 0.13787529, 0.07113739])"
      ]
     },
     "execution_count": 14,
     "metadata": {},
     "output_type": "execute_result"
    }
   ],
   "source": [
    "ridge.coef_"
   ]
  }
 ],
 "metadata": {
  "kernelspec": {
   "display_name": "Python 3",
   "language": "python",
   "name": "python3"
  },
  "language_info": {
   "codemirror_mode": {
    "name": "ipython",
    "version": 3
   },
   "file_extension": ".py",
   "mimetype": "text/x-python",
   "name": "python",
   "nbconvert_exporter": "python",
   "pygments_lexer": "ipython3",
   "version": "3.8.5"
  }
 },
 "nbformat": 4,
 "nbformat_minor": 4
}
