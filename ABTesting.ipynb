{
 "cells": [
  {
   "cell_type": "code",
   "execution_count": 28,
   "metadata": {},
   "outputs": [],
   "source": [
    "import numpy as np\n",
    "import scipy.stats as stats"
   ]
  },
  {
   "cell_type": "code",
   "execution_count": 29,
   "metadata": {},
   "outputs": [],
   "source": [
    "import statsmodels.api as sm"
   ]
  },
  {
   "cell_type": "code",
   "execution_count": 30,
   "metadata": {},
   "outputs": [],
   "source": [
    "n=[10,20,30,40,50,60,70,80,90,100]\n",
    "x = 5"
   ]
  },
  {
   "cell_type": "code",
   "execution_count": 31,
   "metadata": {},
   "outputs": [
    {
     "data": {
      "text/plain": [
       "(array([ -224.5085542 ,  -449.24184169,  -673.97512918,  -898.70841666,\n",
       "        -1123.44170415, -1348.17499164, -1572.90827913, -1797.64156661,\n",
       "        -2022.3748541 , -2247.10814159]),\n",
       " array([0., 0., 0., 0., 0., 0., 0., 0., 0., 0.]))"
      ]
     },
     "execution_count": 31,
     "metadata": {},
     "output_type": "execute_result"
    }
   ],
   "source": [
    "sm.stats.proportions_ztest(0.05,x,n)"
   ]
  },
  {
   "cell_type": "code",
   "execution_count": 34,
   "metadata": {},
   "outputs": [],
   "source": [
    "mean = np.mean(n)\n",
    "se = stats.sem(n)"
   ]
  },
  {
   "cell_type": "code",
   "execution_count": 38,
   "metadata": {},
   "outputs": [
    {
     "data": {
      "text/plain": [
       "(33.34149410386609, 76.6585058961339)"
      ]
     },
     "execution_count": 38,
     "metadata": {},
     "output_type": "execute_result"
    }
   ],
   "source": [
    "conf_int = stats.t.interval(0.95,9,mean,se)\n",
    "conf_int"
   ]
  },
  {
   "cell_type": "code",
   "execution_count": 44,
   "metadata": {},
   "outputs": [
    {
     "data": {
      "text/plain": [
       "(36.23477350975229, 73.76522649024771)"
      ]
     },
     "execution_count": 44,
     "metadata": {},
     "output_type": "execute_result"
    }
   ],
   "source": [
    "ci = stats.norm.interval(0.95,mean,se)\n",
    "ci"
   ]
  },
  {
   "cell_type": "code",
   "execution_count": 51,
   "metadata": {},
   "outputs": [],
   "source": [
    "#for proportions\n",
    "clicks=np.array([10,100])\n",
    "visitors = np.array([1000,1000])\n",
    "stat_value, p_value = sm.stats.proportions_ztest(count=clicks,nobs=visitors,value=0.05,alternative='two-sided')"
   ]
  },
  {
   "cell_type": "code",
   "execution_count": 52,
   "metadata": {},
   "outputs": [
    {
     "data": {
      "text/plain": [
       "-13.731430681184994"
      ]
     },
     "execution_count": 52,
     "metadata": {},
     "output_type": "execute_result"
    }
   ],
   "source": [
    "stat_value"
   ]
  },
  {
   "cell_type": "code",
   "execution_count": 53,
   "metadata": {},
   "outputs": [
    {
     "data": {
      "text/plain": [
       "6.582080820851495e-43"
      ]
     },
     "execution_count": 53,
     "metadata": {},
     "output_type": "execute_result"
    }
   ],
   "source": [
    "p_value"
   ]
  },
  {
   "cell_type": "code",
   "execution_count": null,
   "metadata": {},
   "outputs": [],
   "source": []
  },
  {
   "cell_type": "code",
   "execution_count": 20,
   "metadata": {},
   "outputs": [
    {
     "data": {
      "text/plain": [
       "['AnovaRM',\n",
       " 'CompareMeans',\n",
       " 'DescrStatsW',\n",
       " 'Describe',\n",
       " 'FTestAnovaPower',\n",
       " 'FTestPower',\n",
       " 'FactoredPSDMatrix',\n",
       " 'GofChisquarePower',\n",
       " 'Mediation',\n",
       " 'NormalIndPower',\n",
       " 'NullDistribution',\n",
       " 'OaxacaBlinder',\n",
       " 'RegressionFDR',\n",
       " 'Runs',\n",
       " 'SquareTable',\n",
       " 'StratifiedTable',\n",
       " 'TTestIndPower',\n",
       " 'TTestPower',\n",
       " 'Table',\n",
       " 'Table2x2',\n",
       " '__all__',\n",
       " '__builtins__',\n",
       " '__cached__',\n",
       " '__doc__',\n",
       " '__file__',\n",
       " '__loader__',\n",
       " '__name__',\n",
       " '__package__',\n",
       " '__spec__',\n",
       " 'acorr_breusch_godfrey',\n",
       " 'acorr_ljungbox',\n",
       " 'acorr_lm',\n",
       " 'anova_generic',\n",
       " 'anova_lm',\n",
       " 'anova_oneway',\n",
       " 'binom_test',\n",
       " 'binom_test_reject_interval',\n",
       " 'binom_tost',\n",
       " 'binom_tost_reject_interval',\n",
       " 'breaks_cusumolsresid',\n",
       " 'breaks_hansen',\n",
       " 'chisquare_effectsize',\n",
       " 'cochrans_q',\n",
       " 'cohens_kappa',\n",
       " 'combine_effects',\n",
       " 'compare_cox',\n",
       " 'compare_encompassing',\n",
       " 'compare_j',\n",
       " 'confint_effectsize_oneway',\n",
       " 'confint_mvmean',\n",
       " 'confint_mvmean_fromstats',\n",
       " 'confint_noncentrality',\n",
       " 'confint_poisson',\n",
       " 'confint_poisson_2indep',\n",
       " 'confint_proportions_2indep',\n",
       " 'confint_quantile_poisson',\n",
       " 'convert_effectsize_fsqu',\n",
       " 'corr_clipped',\n",
       " 'corr_nearest',\n",
       " 'corr_nearest_factor',\n",
       " 'corr_thresholded',\n",
       " 'cov_cluster',\n",
       " 'cov_cluster_2groups',\n",
       " 'cov_hac',\n",
       " 'cov_hc0',\n",
       " 'cov_hc1',\n",
       " 'cov_hc2',\n",
       " 'cov_hc3',\n",
       " 'cov_nearest',\n",
       " 'cov_nearest_factor_homog',\n",
       " 'cov_nw_panel',\n",
       " 'cov_white_simple',\n",
       " 'diagnostic',\n",
       " 'durbin_watson',\n",
       " 'effectsize_2proportions',\n",
       " 'effectsize_oneway',\n",
       " 'effectsize_smd',\n",
       " 'equivalence_oneway',\n",
       " 'equivalence_oneway_generic',\n",
       " 'equivalence_scale_oneway',\n",
       " 'etest_poisson_2indep',\n",
       " 'f2_to_wellek',\n",
       " 'fdrcorrection',\n",
       " 'fdrcorrection_twostage',\n",
       " 'fleiss_kappa',\n",
       " 'fstat_to_wellek',\n",
       " 'gof',\n",
       " 'gof_chisquare_discrete',\n",
       " 'het_arch',\n",
       " 'het_breuschpagan',\n",
       " 'het_goldfeldquandt',\n",
       " 'het_white',\n",
       " 'jarque_bera',\n",
       " 'lilliefors',\n",
       " 'linear_harvey_collier',\n",
       " 'linear_lm',\n",
       " 'linear_rainbow',\n",
       " 'linear_reset',\n",
       " 'local_fdr',\n",
       " 'mcnemar',\n",
       " 'moment_helpers',\n",
       " 'multicomp',\n",
       " 'multinomial_proportions_confint',\n",
       " 'multipletests',\n",
       " 'nonequivalence_poisson_2indep',\n",
       " 'normal_ad',\n",
       " 'omni_normtest',\n",
       " 'power_binom_tost',\n",
       " 'power_equivalence_neginb_2indep',\n",
       " 'power_equivalence_oneway',\n",
       " 'power_equivalence_poisson_2indep',\n",
       " 'power_negbin_ratio_2indep',\n",
       " 'power_poisson_diff_2indep',\n",
       " 'power_poisson_ratio_2indep',\n",
       " 'power_proportions_2indep',\n",
       " 'power_ztost_prop',\n",
       " 'powerdiscrepancy',\n",
       " 'proportion_confint',\n",
       " 'proportion_effectsize',\n",
       " 'proportions_chisquare',\n",
       " 'proportions_chisquare_allpairs',\n",
       " 'proportions_chisquare_pairscontrol',\n",
       " 'proportions_ztest',\n",
       " 'proportions_ztost',\n",
       " 'recursive_olsresiduals',\n",
       " 'runstest_1samp',\n",
       " 'runstest_2samp',\n",
       " 'samplesize_confint_proportion',\n",
       " 'samplesize_proportions_2indep_onetail',\n",
       " 'sandwich_covariance',\n",
       " 'se_cov',\n",
       " 'simulate_power_equivalence_oneway',\n",
       " 'spec_white',\n",
       " 'stattools',\n",
       " 'test_cov',\n",
       " 'test_cov_blockdiagonal',\n",
       " 'test_cov_diagonal',\n",
       " 'test_cov_oneway',\n",
       " 'test_cov_spherical',\n",
       " 'test_mvmean',\n",
       " 'test_mvmean_2indep',\n",
       " 'test_poisson',\n",
       " 'test_poisson_2indep',\n",
       " 'test_proportions_2indep',\n",
       " 'test_scale_oneway',\n",
       " 'tolerance_int_poisson',\n",
       " 'tost_poisson_2indep',\n",
       " 'tost_proportions_2indep',\n",
       " 'tt_ind_solve_power',\n",
       " 'tt_solve_power',\n",
       " 'ttest_ind',\n",
       " 'ttost_ind',\n",
       " 'ttost_paired',\n",
       " 'tukeyhsd',\n",
       " 'wellek_to_f2',\n",
       " 'zconfint',\n",
       " 'zt_ind_solve_power',\n",
       " 'ztest',\n",
       " 'ztost']"
      ]
     },
     "execution_count": 20,
     "metadata": {},
     "output_type": "execute_result"
    }
   ],
   "source": [
    "dir(sm.stats)"
   ]
  },
  {
   "cell_type": "code",
   "execution_count": null,
   "metadata": {},
   "outputs": [],
   "source": []
  },
  {
   "cell_type": "code",
   "execution_count": null,
   "metadata": {},
   "outputs": [],
   "source": []
  },
  {
   "cell_type": "code",
   "execution_count": null,
   "metadata": {},
   "outputs": [],
   "source": []
  }
 ],
 "metadata": {
  "kernelspec": {
   "display_name": "Python 3",
   "language": "python",
   "name": "python3"
  },
  "language_info": {
   "codemirror_mode": {
    "name": "ipython",
    "version": 3
   },
   "file_extension": ".py",
   "mimetype": "text/x-python",
   "name": "python",
   "nbconvert_exporter": "python",
   "pygments_lexer": "ipython3",
   "version": "3.8.5"
  }
 },
 "nbformat": 4,
 "nbformat_minor": 4
}
